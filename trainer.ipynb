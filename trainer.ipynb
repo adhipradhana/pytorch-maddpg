{
 "cells": [
  {
   "cell_type": "markdown",
   "metadata": {},
   "source": [
    "# Battle Royale Environment Trainer\n",
    "This notebook is for training Battle Royale agents. MADDPG is used for training the agents."
   ]
  },
  {
   "cell_type": "markdown",
   "metadata": {},
   "source": [
    "## Setup Environment Dependencies"
   ]
  },
  {
   "cell_type": "code",
   "execution_count": 1,
   "metadata": {},
   "outputs": [
    {
     "name": "stdout",
     "output_type": "stream",
     "text": [
      "Python version:\n",
      "3.7.6 (default, Jan  8 2020, 13:42:34) \n",
      "[Clang 4.0.1 (tags/RELEASE_401/final)]\n",
      "/Users/adhipradhana/anaconda3/envs/unity-battle-royale/bin/python\n"
     ]
    }
   ],
   "source": [
    "import sys\n",
    "from gym_unity.envs import UnityEnv\n",
    "\n",
    "%matplotlib inline\n",
    "\n",
    "print(\"Python version:\")\n",
    "print(sys.version)\n",
    "print(sys.executable)\n",
    "\n",
    "# check Python version\n",
    "if (sys.version_info[0] < 3):\n",
    "    raise Exception(\"ERROR: ML-Agents Toolkit (v0.3 onwards) requires Python 3\")"
   ]
  },
  {
   "cell_type": "markdown",
   "metadata": {},
   "source": [
    "## Start Environment"
   ]
  },
  {
   "cell_type": "code",
   "execution_count": 2,
   "metadata": {},
   "outputs": [
    {
     "name": "stderr",
     "output_type": "stream",
     "text": [
      "INFO:mlagents_envs:Connected new brain:\n",
      "PlayerBrain?team=0\n",
      "INFO:gym_unity:4 agents within environment.\n"
     ]
    },
    {
     "name": "stdout",
     "output_type": "stream",
     "text": [
      "<UnityEnv instance>\n"
     ]
    },
    {
     "name": "stderr",
     "output_type": "stream",
     "text": [
      "/Users/adhipradhana/anaconda3/envs/unity-battle-royale/lib/python3.7/site-packages/gym/logger.py:30: UserWarning: \u001b[33mWARN: Box bound precision lowered by casting to float32\u001b[0m\n",
      "  warnings.warn(colorize('%s: %s'%('WARN', msg % args), 'yellow'))\n"
     ]
    }
   ],
   "source": [
    "# Environment name\n",
    "# Remember to put battle royale environment configuration within the config folder\n",
    "env_name = \"environment/battle-royale\"\n",
    "\n",
    "env = UnityEnv(env_name, worker_id=2, use_visual=False, multiagent=True)\n",
    "\n",
    "print(str(env))"
   ]
  },
  {
   "cell_type": "markdown",
   "metadata": {},
   "source": [
    "## Examine Observation Space"
   ]
  },
  {
   "cell_type": "code",
   "execution_count": 3,
   "metadata": {},
   "outputs": [
    {
     "name": "stdout",
     "output_type": "stream",
     "text": [
      "Agent observation space type: Box(42,)\n"
     ]
    }
   ],
   "source": [
    "# Examine observation space\n",
    "observation = env.observation_space\n",
    "print(\"Agent observation space type: {}\".format(observation))"
   ]
  },
  {
   "cell_type": "markdown",
   "metadata": {},
   "source": [
    "## Examine Action Space"
   ]
  },
  {
   "cell_type": "code",
   "execution_count": 4,
   "metadata": {},
   "outputs": [
    {
     "name": "stdout",
     "output_type": "stream",
     "text": [
      "Agent action space type: Box(5,)\n"
     ]
    }
   ],
   "source": [
    "# Examine action space\n",
    "action = env.action_space\n",
    "print(\"Agent action space type: {}\".format(action))"
   ]
  },
  {
   "cell_type": "markdown",
   "metadata": {},
   "source": [
    "## Agents Training\n",
    "This part shows agent training using MADDPG algoritm"
   ]
  },
  {
   "cell_type": "markdown",
   "metadata": {},
   "source": [
    "### Setup Algorithm Dependencies"
   ]
  },
  {
   "cell_type": "code",
   "execution_count": 3,
   "metadata": {},
   "outputs": [],
   "source": [
    "from datetime import datetime\n",
    "import torch\n",
    "import visdom\n",
    "import numpy as np\n",
    "\n",
    "from utils.MADDPG import MADDPG\n",
    "from utils.RandomProcess import OUNoise"
   ]
  },
  {
   "cell_type": "markdown",
   "metadata": {},
   "source": [
    "### Setup Algoritm Parameters"
   ]
  },
  {
   "cell_type": "code",
   "execution_count": 4,
   "metadata": {},
   "outputs": [],
   "source": [
    "random_seed = 4966\n",
    "n_states = env.observation_space.shape[0]\n",
    "n_actions = env.action_space.shape[0]\n",
    "n_agents = env.number_agents\n",
    "n_episode = 10000\n",
    "max_steps = 50000\n",
    "buffer_capacity = 1000000\n",
    "batch_size = 1000\n",
    "episodes_before_train = 100\n",
    "checkpoint_episode = 1000"
   ]
  },
  {
   "cell_type": "markdown",
   "metadata": {},
   "source": [
    "### Setup MADDPG"
   ]
  },
  {
   "cell_type": "code",
   "execution_count": 5,
   "metadata": {},
   "outputs": [
    {
     "name": "stderr",
     "output_type": "stream",
     "text": [
      "WARNING:visdom:Setting up a new session...\n",
      "INFO:visdom:Visdom successfully connected to server\n"
     ]
    }
   ],
   "source": [
    "# setup seed\n",
    "torch.manual_seed(random_seed)\n",
    "np.random.seed(random_seed)\n",
    "\n",
    "maddpg = MADDPG(n_agents, n_states, n_actions, batch_size, buffer_capacity, episodes_before_train)\n",
    "noise = OUNoise(env.action_space)\n",
    "\n",
    "FloatTensor = torch.cuda.FloatTensor if maddpg.use_cuda else torch.FloatTensor\n",
    "\n",
    "vis = visdom.Visdom(port=8097)"
   ]
  },
  {
   "cell_type": "markdown",
   "metadata": {},
   "source": [
    "### MADDPG Training"
   ]
  },
  {
   "cell_type": "code",
   "execution_count": 8,
   "metadata": {},
   "outputs": [
    {
     "name": "stdout",
     "output_type": "stream",
     "text": [
      "Exploration begins...\n",
      "Episode: 0, reward = 0.0\n",
      "Episode: 1, reward = 0.09999999403953552\n",
      "Episode: 2, reward = 0.0\n",
      "Episode: 3, reward = 0.10999999195337296\n",
      "Episode: 4, reward = 0.0\n",
      "Episode: 5, reward = 0.0\n",
      "Episode: 6, reward = 0.0\n",
      "Episode: 7, reward = 0.019999999552965164\n",
      "Episode: 8, reward = 0.0\n",
      "Episode: 9, reward = 0.0\n",
      "Training begins...\n",
      "MADDPG on Battle Royale\n",
      "Episode: 10, reward = 0.0\n",
      "Episode: 11, reward = 0.0\n",
      "Episode: 12, reward = 0.0\n",
      "Episode: 13, reward = 0.0\n",
      "Episode: 14, reward = 0.0\n",
      "Episode: 15, reward = 0.0\n",
      "Episode: 16, reward = 0.0\n",
      "Episode: 17, reward = 0.0\n",
      "Episode: 18, reward = 0.11999998986721039\n",
      "Episode: 19, reward = 0.0\n",
      "Episode: 20, reward = 0.03999999910593033\n",
      "Episode: 21, reward = 0.04999999701976776\n",
      "Episode: 22, reward = 0.05999999865889549\n",
      "Episode: 23, reward = 0.0\n",
      "Episode: 24, reward = 0.0\n",
      "Episode: 25, reward = 0.11999999731779099\n",
      "Episode: 26, reward = 0.0\n",
      "Episode: 27, reward = 0.0\n",
      "Episode: 28, reward = 0.0\n",
      "Episode: 29, reward = 0.019999999552965164\n",
      "Episode: 30, reward = 0.0\n",
      "Episode: 31, reward = 0.019999999552965164\n",
      "Episode: 32, reward = 0.0\n",
      "Episode: 33, reward = 0.0\n",
      "Episode: 34, reward = 0.03999999910593033\n",
      "Episode: 35, reward = 0.0\n",
      "Episode: 36, reward = 0.019999999552965164\n",
      "Episode: 37, reward = 0.019999999552965164\n",
      "Episode: 38, reward = 0.019999999552965164\n",
      "Episode: 39, reward = 0.03999999910593033\n",
      "Episode: 40, reward = 0.019999999552965164\n",
      "Episode: 41, reward = 0.05999999865889549\n",
      "Episode: 42, reward = 0.0\n",
      "Episode: 43, reward = 0.04999999701976776\n",
      "Episode: 44, reward = 0.0\n",
      "Episode: 45, reward = 0.019999999552965164\n",
      "Episode: 46, reward = 0.0\n",
      "Episode: 47, reward = 0.23999997973442078\n",
      "Episode: 48, reward = 0.0\n",
      "Episode: 49, reward = 0.0\n",
      "Episode: 50, reward = 0.019999999552965164\n",
      "Episode: 51, reward = 0.0\n",
      "Episode: 52, reward = 0.0\n",
      "Episode: 53, reward = 0.12999999523162842\n",
      "Episode: 54, reward = 0.03999999910593033\n",
      "Episode: 55, reward = 0.0\n",
      "Episode: 56, reward = 0.0\n",
      "Episode: 57, reward = 0.13999998569488525\n",
      "Episode: 58, reward = 0.0\n",
      "Episode: 59, reward = 0.0\n",
      "Episode: 60, reward = 0.0\n",
      "Episode: 61, reward = 0.0\n",
      "Episode: 62, reward = 0.0\n",
      "Episode: 63, reward = 0.0\n",
      "Episode: 64, reward = 0.29999998211860657\n",
      "Episode: 65, reward = 0.0\n",
      "Episode: 66, reward = 0.0\n",
      "Episode: 67, reward = 0.14000000059604645\n",
      "Episode: 68, reward = 0.0\n",
      "Episode: 69, reward = 0.0\n",
      "Episode: 70, reward = 0.0\n",
      "Episode: 71, reward = 0.0\n",
      "Episode: 72, reward = 0.0\n",
      "Episode: 73, reward = 0.2199999839067459\n",
      "Episode: 74, reward = 0.0\n",
      "Episode: 75, reward = 0.019999999552965164\n",
      "Episode: 76, reward = 0.0\n",
      "Episode: 77, reward = 0.0\n",
      "Episode: 78, reward = 0.05999999865889549\n",
      "Episode: 79, reward = 0.019999999552965164\n",
      "Episode: 80, reward = 0.19999998807907104\n",
      "Episode: 81, reward = 0.0\n",
      "Episode: 82, reward = 0.11999999731779099\n",
      "Episode: 83, reward = 0.15999998152256012\n",
      "Episode: 84, reward = 0.0\n",
      "Episode: 85, reward = 0.0\n",
      "Episode: 86, reward = 0.03999999910593033\n",
      "Episode: 87, reward = 0.22999998927116394\n",
      "Episode: 88, reward = 0.17000000178813934\n",
      "Episode: 89, reward = 0.0\n",
      "Episode: 90, reward = 0.019999999552965164\n",
      "Episode: 91, reward = 0.15999998152256012\n",
      "Episode: 92, reward = 0.0\n",
      "Episode: 93, reward = 0.14000000059604645\n",
      "Episode: 94, reward = 0.0\n",
      "Episode: 95, reward = 0.07999999821186066\n",
      "Episode: 96, reward = 0.25999999046325684\n",
      "Episode: 97, reward = 0.03999999910593033\n",
      "Episode: 98, reward = 0.0\n",
      "Episode: 99, reward = 0.019999999552965164\n"
     ]
    }
   ],
   "source": [
    "win = None\n",
    "current_time = str(datetime.now())\n",
    "reward_record = []\n",
    "true = True\n",
    "\n",
    "print(\"Exploration begins...\")\n",
    "for i_episode in range(n_episode):\n",
    "    # reset environment\n",
    "    obs = env.reset()\n",
    "    obs = np.stack(obs)\n",
    "    noise.reset()\n",
    "    \n",
    "    # convert observation to tensor\n",
    "    if isinstance(obs, np.ndarray):\n",
    "        obs = torch.from_numpy(obs).float()\n",
    "    \n",
    "    total_reward = 0.0\n",
    "    rr = np.zeros((n_agents,))\n",
    "    for i_step in range(max_steps):\n",
    "        obs = obs.type(FloatTensor)\n",
    "        actions = maddpg.select_action(obs).data.cpu()\n",
    "        actions_list = [noise.get_action(action) for action in actions.tolist()]\n",
    "        \n",
    "        obs_, reward, done, _ = env.step(actions_list)\n",
    "\n",
    "        reward = torch.FloatTensor(reward).type(FloatTensor)\n",
    "        obs_ = np.stack(obs_)\n",
    "        obs_ = torch.from_numpy(obs_).float()\n",
    "        if i_step != max_steps - 1:\n",
    "            next_obs = obs_\n",
    "        else:\n",
    "            next_obs = None\n",
    "\n",
    "        total_reward += reward.sum()\n",
    "        rr += reward.cpu().numpy()\n",
    "        maddpg.memory.push(obs.data, actions, next_obs, reward)\n",
    "        \n",
    "        obs = next_obs\n",
    "\n",
    "        c_loss, a_loss = maddpg.update_policy()\n",
    "        \n",
    "        # check if done\n",
    "        if done[0]:\n",
    "            break\n",
    "\n",
    "    maddpg.episode_done += 1\n",
    "    print(\"Episode: {}, reward = {}\".format(i_episode, total_reward))\n",
    "    reward_record.append(total_reward)\n",
    "    \n",
    "    if maddpg.episode_done == maddpg.episodes_before_train:\n",
    "        print(\"Training begins...\")\n",
    "        print(\"MADDPG on Battle Royale\")\n",
    "              \n",
    "    if win is None:\n",
    "        win = vis.line(X=np.arange(i_episode, i_episode+1),\n",
    "                       Y=np.array([\n",
    "                           np.append(total_reward, rr)]),\n",
    "                       opts=dict(\n",
    "                           ylabel=\"Reward\",\n",
    "                           xlabel=\"Episode\",\n",
    "                           title=\"MADDPG on Battle Royale | \" + \\\n",
    "                               \"Agent: {} | \".format(n_agents) + \\\n",
    "                               \"Time: {}\\n\".format(current_time),\n",
    "                           legend=[\"Total\"] +\n",
    "                           [\"Agent-\".format(i) for i in range(n_agents)]))\n",
    "    else:\n",
    "        vis.line(X=np.array(\n",
    "            [np.array(i_episode).repeat(n_agents+1)]),\n",
    "                 Y=np.array([np.append(total_reward,rr)]),\n",
    "                 win=win,\n",
    "                 update=\"append\")\n",
    "        \n",
    "    # save model\n",
    "    if (maddpg.episode_done % checkpoint_episode == 0):\n",
    "        maddpg.save(current_time, maddpg.episode_done)"
   ]
  },
  {
   "cell_type": "markdown",
   "metadata": {},
   "source": [
    "## Close Environment"
   ]
  },
  {
   "cell_type": "code",
   "execution_count": 7,
   "metadata": {},
   "outputs": [
    {
     "name": "stderr",
     "output_type": "stream",
     "text": [
      "INFO:mlagents_envs:Environment shut down with return code 0.\n"
     ]
    }
   ],
   "source": [
    "env.close()"
   ]
  },
  {
   "cell_type": "markdown",
   "metadata": {},
   "source": [
    "## Loading Model"
   ]
  },
  {
   "cell_type": "code",
   "execution_count": 8,
   "metadata": {},
   "outputs": [],
   "source": [
    "import os\n",
    "\n",
    "path = os.path.join(os.getcwd(), 'checkpoint', 'Time_2020-03-03_14:30:03.326161_NAgent_4_Episode_15.pth')\n",
    "maddpg.load(path)"
   ]
  }
 ],
 "metadata": {
  "kernelspec": {
   "display_name": "unity-battle-royale",
   "language": "python",
   "name": "unity-battle-royale"
  },
  "language_info": {
   "codemirror_mode": {
    "name": "ipython",
    "version": 3
   },
   "file_extension": ".py",
   "mimetype": "text/x-python",
   "name": "python",
   "nbconvert_exporter": "python",
   "pygments_lexer": "ipython3",
   "version": "3.7.6"
  }
 },
 "nbformat": 4,
 "nbformat_minor": 2
}
