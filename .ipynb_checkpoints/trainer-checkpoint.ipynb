{
 "cells": [
  {
   "cell_type": "markdown",
   "metadata": {},
   "source": [
    "# Battle Royale Environment Trainer\n",
    "This notebook is for training Battle Royale agents. MADDPG is used for training the agents."
   ]
  },
  {
   "cell_type": "markdown",
   "metadata": {},
   "source": [
    "## Setup Environment Dependencies"
   ]
  },
  {
   "cell_type": "code",
   "execution_count": 51,
   "metadata": {},
   "outputs": [
    {
     "name": "stdout",
     "output_type": "stream",
     "text": [
      "Python version:\n",
      "3.7.6 (default, Jan  8 2020, 13:42:34) \n",
      "[Clang 4.0.1 (tags/RELEASE_401/final)]\n",
      "/Users/adhipradhana/anaconda3/envs/unity-battle-royale/bin/python\n"
     ]
    }
   ],
   "source": [
    "import sys\n",
    "from gym_unity.envs import UnityEnv\n",
    "\n",
    "print(\"Python version:\")\n",
    "print(sys.version)\n",
    "print(sys.executable)\n",
    "\n",
    "# check Python version\n",
    "if (sys.version_info[0] < 3):\n",
    "    raise Exception(\"ERROR: ML-Agents Toolkit (v0.3 onwards) requires Python 3\")"
   ]
  },
  {
   "cell_type": "markdown",
   "metadata": {},
   "source": [
    "## Start Environment"
   ]
  },
  {
   "cell_type": "code",
   "execution_count": 79,
   "metadata": {},
   "outputs": [
    {
     "name": "stderr",
     "output_type": "stream",
     "text": [
      "INFO:mlagents_envs:Connected new brain:\n",
      "PlayerBrain?team=0\n",
      "INFO:gym_unity:2 agents within environment.\n"
     ]
    },
    {
     "name": "stdout",
     "output_type": "stream",
     "text": [
      "<UnityEnv instance>\n"
     ]
    }
   ],
   "source": [
    "# Environment name\n",
    "# Remember to put battle royale environment configuration within the config folder\n",
    "env_name = \"environment/new/battle-royale-static\"\n",
    "\n",
    "env = UnityEnv(env_name, worker_id=2, use_visual=False, multiagent=True)\n",
    "\n",
    "print(str(env))"
   ]
  },
  {
   "cell_type": "markdown",
   "metadata": {},
   "source": [
    "## Examine Observation Space"
   ]
  },
  {
   "cell_type": "code",
   "execution_count": 80,
   "metadata": {},
   "outputs": [
    {
     "name": "stdout",
     "output_type": "stream",
     "text": [
      "Agent observation space type: Box(36,)\n"
     ]
    }
   ],
   "source": [
    "# Examine observation space\n",
    "observation = env.observation_space\n",
    "print(\"Agent observation space type: {}\".format(observation))"
   ]
  },
  {
   "cell_type": "markdown",
   "metadata": {},
   "source": [
    "## Examine Action Space"
   ]
  },
  {
   "cell_type": "code",
   "execution_count": 81,
   "metadata": {},
   "outputs": [
    {
     "name": "stdout",
     "output_type": "stream",
     "text": [
      "Agent action space type: Box(5,)\n"
     ]
    }
   ],
   "source": [
    "# Examine action space\n",
    "action = env.action_space\n",
    "print(\"Agent action space type: {}\".format(action))"
   ]
  },
  {
   "cell_type": "markdown",
   "metadata": {},
   "source": [
    "## Agents Training\n",
    "This part shows agent training using MADDPG algoritm"
   ]
  },
  {
   "cell_type": "markdown",
   "metadata": {},
   "source": [
    "### Setup Algorithm Dependencies"
   ]
  },
  {
   "cell_type": "code",
   "execution_count": 82,
   "metadata": {},
   "outputs": [],
   "source": [
    "from datetime import datetime\n",
    "import torch\n",
    "import visdom\n",
    "import numpy as np\n",
    "import random\n",
    "\n",
    "from utils.MADDPG import MADDPG"
   ]
  },
  {
   "cell_type": "markdown",
   "metadata": {},
   "source": [
    "### Setup Algoritm Parameters"
   ]
  },
  {
   "cell_type": "code",
   "execution_count": 83,
   "metadata": {},
   "outputs": [],
   "source": [
    "random_seed = random.randint(0,1000000)\n",
    "n_states = env.observation_space.shape[0]\n",
    "n_actions = env.action_space.shape[0]\n",
    "n_agents = env.number_agents\n",
    "n_episode = 100\n",
    "max_steps = 100\n",
    "buffer_capacity = 1000000\n",
    "batch_size = 1000\n",
    "episodes_before_train = 100\n",
    "checkpoint_episode = 500"
   ]
  },
  {
   "cell_type": "markdown",
   "metadata": {},
   "source": [
    "### Setup MADDPG"
   ]
  },
  {
   "cell_type": "code",
   "execution_count": 84,
   "metadata": {},
   "outputs": [
    {
     "name": "stderr",
     "output_type": "stream",
     "text": [
      "WARNING:visdom:Setting up a new session...\n",
      "INFO:visdom:Visdom successfully connected to server\n"
     ]
    }
   ],
   "source": [
    "# setup seed\n",
    "torch.manual_seed(random_seed)\n",
    "np.random.seed(random_seed)\n",
    "\n",
    "maddpg = MADDPG(n_agents, n_states, n_actions, batch_size, buffer_capacity, episodes_before_train)\n",
    "\n",
    "FloatTensor = torch.cuda.FloatTensor if maddpg.use_cuda else torch.FloatTensor\n",
    "\n",
    "vis = visdom.Visdom(port=8097, log_to_filename='log/maddpg.log')"
   ]
  },
  {
   "cell_type": "markdown",
   "metadata": {},
   "source": [
    "### MADDPG Training"
   ]
  },
  {
   "cell_type": "code",
   "execution_count": 85,
   "metadata": {},
   "outputs": [
    {
     "name": "stdout",
     "output_type": "stream",
     "text": [
      "Exploration begins...\n",
      "[False, False]\n",
      "[False, False]\n",
      "[False, False]\n",
      "[False, False]\n",
      "[False, False]\n",
      "[False, False]\n",
      "[False, False]\n",
      "[False, False]\n",
      "[False, False]\n",
      "[False, False]\n",
      "[False, False]\n",
      "[False, False]\n",
      "[False, False]\n",
      "[False, False]\n",
      "[False, False]\n",
      "[False, False]\n",
      "[False, False]\n",
      "[False, False]\n",
      "[False, False]\n",
      "[False, False]\n",
      "[False, False]\n",
      "[False, False]\n",
      "[False, False]\n",
      "[False, False]\n",
      "[False, False]\n",
      "[False, False]\n",
      "[False, False]\n",
      "[False, False]\n",
      "[False, False]\n",
      "[False, False]\n",
      "[False, False]\n",
      "[False, False]\n",
      "[False, False]\n",
      "[False, False]\n",
      "[False, False]\n",
      "[False, False]\n",
      "[False, False]\n",
      "[False, False]\n",
      "[False, False]\n",
      "[False, False]\n",
      "[False, False]\n",
      "[False, False]\n",
      "[False, False]\n",
      "[False, False]\n",
      "[False, False]\n",
      "[False, False]\n",
      "[False, False]\n",
      "[False, False]\n",
      "[False, False]\n",
      "[False, False]\n",
      "[False, False]\n",
      "[False, False]\n",
      "[False, False]\n",
      "[False, False]\n",
      "[False, False]\n",
      "[False, False]\n",
      "[False, False]\n",
      "[False, False]\n",
      "[False, False]\n"
     ]
    },
    {
     "ename": "UnityGymException",
     "evalue": "The environment was launched as a mutli-agent environment, howeverthere is only one agent in the scene.",
     "output_type": "error",
     "traceback": [
      "\u001b[0;31m---------------------------------------------------------------------------\u001b[0m",
      "\u001b[0;31mUnityGymException\u001b[0m                         Traceback (most recent call last)",
      "\u001b[0;32m<ipython-input-85-9650b56a8439>\u001b[0m in \u001b[0;36m<module>\u001b[0;34m\u001b[0m\n\u001b[1;32m     21\u001b[0m         \u001b[0mactions_list\u001b[0m \u001b[0;34m=\u001b[0m \u001b[0mactions\u001b[0m\u001b[0;34m.\u001b[0m\u001b[0mtolist\u001b[0m\u001b[0;34m(\u001b[0m\u001b[0;34m)\u001b[0m\u001b[0;34m\u001b[0m\u001b[0;34m\u001b[0m\u001b[0m\n\u001b[1;32m     22\u001b[0m \u001b[0;34m\u001b[0m\u001b[0m\n\u001b[0;32m---> 23\u001b[0;31m         \u001b[0mobs_\u001b[0m\u001b[0;34m,\u001b[0m \u001b[0mreward\u001b[0m\u001b[0;34m,\u001b[0m \u001b[0mdone\u001b[0m\u001b[0;34m,\u001b[0m \u001b[0m_\u001b[0m \u001b[0;34m=\u001b[0m \u001b[0menv\u001b[0m\u001b[0;34m.\u001b[0m\u001b[0mstep\u001b[0m\u001b[0;34m(\u001b[0m\u001b[0mactions_list\u001b[0m\u001b[0;34m)\u001b[0m\u001b[0;34m\u001b[0m\u001b[0;34m\u001b[0m\u001b[0m\n\u001b[0m\u001b[1;32m     24\u001b[0m \u001b[0;34m\u001b[0m\u001b[0m\n\u001b[1;32m     25\u001b[0m         \u001b[0mreward\u001b[0m \u001b[0;34m=\u001b[0m \u001b[0mtorch\u001b[0m\u001b[0;34m.\u001b[0m\u001b[0mFloatTensor\u001b[0m\u001b[0;34m(\u001b[0m\u001b[0mreward\u001b[0m\u001b[0;34m)\u001b[0m\u001b[0;34m.\u001b[0m\u001b[0mtype\u001b[0m\u001b[0;34m(\u001b[0m\u001b[0mFloatTensor\u001b[0m\u001b[0;34m)\u001b[0m\u001b[0;34m\u001b[0m\u001b[0;34m\u001b[0m\u001b[0m\n",
      "\u001b[0;32m~/anaconda3/envs/unity-battle-royale/lib/python3.7/site-packages/gym_unity/envs/__init__.py\u001b[0m in \u001b[0;36mstep\u001b[0;34m(self, action)\u001b[0m\n\u001b[1;32m    209\u001b[0m         \u001b[0minfo\u001b[0m \u001b[0;34m=\u001b[0m \u001b[0mself\u001b[0m\u001b[0;34m.\u001b[0m\u001b[0m_env\u001b[0m\u001b[0;34m.\u001b[0m\u001b[0mget_step_result\u001b[0m\u001b[0;34m(\u001b[0m\u001b[0mself\u001b[0m\u001b[0;34m.\u001b[0m\u001b[0mbrain_name\u001b[0m\u001b[0;34m)\u001b[0m\u001b[0;34m\u001b[0m\u001b[0;34m\u001b[0m\u001b[0m\n\u001b[1;32m    210\u001b[0m         \u001b[0mn_agents\u001b[0m \u001b[0;34m=\u001b[0m \u001b[0minfo\u001b[0m\u001b[0;34m.\u001b[0m\u001b[0mn_agents\u001b[0m\u001b[0;34m(\u001b[0m\u001b[0;34m)\u001b[0m\u001b[0;34m\u001b[0m\u001b[0;34m\u001b[0m\u001b[0m\n\u001b[0;32m--> 211\u001b[0;31m         \u001b[0mself\u001b[0m\u001b[0;34m.\u001b[0m\u001b[0m_check_agents\u001b[0m\u001b[0;34m(\u001b[0m\u001b[0mn_agents\u001b[0m\u001b[0;34m)\u001b[0m\u001b[0;34m\u001b[0m\u001b[0;34m\u001b[0m\u001b[0m\n\u001b[0m\u001b[1;32m    212\u001b[0m         \u001b[0mself\u001b[0m\u001b[0;34m.\u001b[0m\u001b[0m_current_state\u001b[0m \u001b[0;34m=\u001b[0m \u001b[0minfo\u001b[0m\u001b[0;34m\u001b[0m\u001b[0;34m\u001b[0m\u001b[0m\n\u001b[1;32m    213\u001b[0m \u001b[0;34m\u001b[0m\u001b[0m\n",
      "\u001b[0;32m~/anaconda3/envs/unity-battle-royale/lib/python3.7/site-packages/gym_unity/envs/__init__.py\u001b[0m in \u001b[0;36m_check_agents\u001b[0;34m(self, n_agents)\u001b[0m\n\u001b[1;32m    333\u001b[0m         \u001b[0;32melif\u001b[0m \u001b[0mself\u001b[0m\u001b[0;34m.\u001b[0m\u001b[0m_multiagent\u001b[0m \u001b[0;32mand\u001b[0m \u001b[0mn_agents\u001b[0m \u001b[0;34m<=\u001b[0m \u001b[0;36m1\u001b[0m\u001b[0;34m:\u001b[0m\u001b[0;34m\u001b[0m\u001b[0;34m\u001b[0m\u001b[0m\n\u001b[1;32m    334\u001b[0m             raise UnityGymException(\n\u001b[0;32m--> 335\u001b[0;31m                 \u001b[0;34m\"The environment was launched as a mutli-agent environment, however\"\u001b[0m\u001b[0;34m\u001b[0m\u001b[0;34m\u001b[0m\u001b[0m\n\u001b[0m\u001b[1;32m    336\u001b[0m                 \u001b[0;34m\"there is only one agent in the scene.\"\u001b[0m\u001b[0;34m\u001b[0m\u001b[0;34m\u001b[0m\u001b[0m\n\u001b[1;32m    337\u001b[0m             )\n",
      "\u001b[0;31mUnityGymException\u001b[0m: The environment was launched as a mutli-agent environment, howeverthere is only one agent in the scene."
     ]
    }
   ],
   "source": [
    "win_avg = None\n",
    "win_curr = None\n",
    "current_time = str(datetime.now())\n",
    "reward_record = [[] for i in range(n_agents+1)]\n",
    "\n",
    "print(\"Exploration begins...\")\n",
    "for i_episode in range(n_episode):\n",
    "    # reset environment\n",
    "    obs = env.reset()\n",
    "    obs = np.stack(obs)\n",
    "    \n",
    "    # convert observation to tensor\n",
    "    if isinstance(obs, np.ndarray):\n",
    "        obs = torch.from_numpy(obs).float()\n",
    "    \n",
    "    total_reward = 0.0\n",
    "    rr = np.zeros((n_agents,))\n",
    "    for i_step in range(max_steps):\n",
    "        obs = obs.type(FloatTensor)\n",
    "        actions = maddpg.select_action(obs).data.cpu()\n",
    "        actions_list = actions.tolist()\n",
    "        \n",
    "        obs_, reward, done, _ = env.step(actions_list)\n",
    "        \n",
    "        reward = torch.FloatTensor(reward).type(FloatTensor)\n",
    "        obs_ = np.stack(obs_)\n",
    "        obs_ = torch.from_numpy(obs_).float()\n",
    "        if i_step != max_steps - 1:\n",
    "            next_obs = obs_\n",
    "        else:\n",
    "            next_obs = None\n",
    "\n",
    "        total_reward += reward.sum()\n",
    "        rr += reward.cpu().numpy()\n",
    "        maddpg.memory.push(obs.data, actions, next_obs, reward)\n",
    "        \n",
    "        obs = next_obs\n",
    "\n",
    "        c_loss, a_loss = maddpg.update_policy()\n",
    "\n",
    "        print(done)\n",
    "        if True in done:\n",
    "            break\n",
    "\n",
    "    maddpg.episode_done += 1\n",
    "    print(\"Episode: {}, reward = {}\".format(i_episode, total_reward))\n",
    "    \n",
    "    reward_record[0].append(total_reward.cpu())  \n",
    "    for i in range(n_agents):\n",
    "        reward_record[i+1].append(rr[i])\n",
    "    \n",
    "    y_axis = np.asarray([np.mean(reward_record[i]) for i in range(n_agents+1)]).reshape((1,n_agents+1))\n",
    "  \n",
    "    if maddpg.episode_done == maddpg.episodes_before_train:\n",
    "        print(\"Training begins...\")\n",
    "        print(\"MADDPG on Battle Royale\")\n",
    "              \n",
    "    if win_avg is None:\n",
    "        win_avg = vis.line(X=np.arange(i_episode, i_episode+1),\n",
    "                       Y=np.array(y_axis),\n",
    "                       opts=dict(\n",
    "                           ylabel=\"Average Reward\",\n",
    "                           xlabel=\"Episode\",\n",
    "                           title=\"Average Reward | MADDPG on Battle Royale | \" + \\\n",
    "                               \"Agent: {} | \".format(n_agents) + \\\n",
    "                               \"Time: {}\\n\".format(current_time),\n",
    "                           legend=[\"Total\"] +\n",
    "                           [\"Agent-{}\".format(i) for i in range(n_agents)]))\n",
    "    else:\n",
    "        vis.line(X=np.array(\n",
    "            [np.array(i_episode).repeat(n_agents+1)]),\n",
    "                 Y=np.array(y_axis),\n",
    "                 win=win_avg,\n",
    "                 update=\"append\")\n",
    "        \n",
    "    if win_curr is None:\n",
    "        win_curr = vis.line(X=np.arange(i_episode, i_episode+1),\n",
    "                       Y=np.array([\n",
    "                           np.append(total_reward, rr)]),\n",
    "                       opts=dict(\n",
    "                           ylabel=\"Reward\",\n",
    "                           xlabel=\"Episode\",\n",
    "                           title=\"Current Reward | MADDPG on Battle Royale | \" + \\\n",
    "                               \"Agent: {} | \".format(n_agents) + \\\n",
    "                               \"Time: {}\\n\".format(current_time),\n",
    "                           legend=[\"Total\"] +\n",
    "                           [\"Agent-{}\".format(i) for i in range(n_agents)]))\n",
    "    else:\n",
    "        vis.line(X=np.array(\n",
    "            [np.array(i_episode).repeat(n_agents+1)]),\n",
    "                 Y=np.array([np.append(total_reward,rr)]),\n",
    "                 win=win_curr,\n",
    "                 update=\"append\")\n",
    "        \n",
    "    # save model\n",
    "    if (maddpg.episode_done % checkpoint_episode == 0):\n",
    "        maddpg.save(current_time, maddpg.episode_done)"
   ]
  },
  {
   "cell_type": "markdown",
   "metadata": {},
   "source": [
    "## Close Environment"
   ]
  },
  {
   "cell_type": "code",
   "execution_count": 78,
   "metadata": {},
   "outputs": [
    {
     "name": "stderr",
     "output_type": "stream",
     "text": [
      "INFO:mlagents_envs:Environment shut down with return code 0.\n"
     ]
    }
   ],
   "source": [
    "env.close()"
   ]
  },
  {
   "cell_type": "code",
   "execution_count": null,
   "metadata": {},
   "outputs": [],
   "source": []
  }
 ],
 "metadata": {
  "kernelspec": {
   "display_name": "unity-battle-royale",
   "language": "python",
   "name": "unity-battle-royale"
  },
  "language_info": {
   "codemirror_mode": {
    "name": "ipython",
    "version": 3
   },
   "file_extension": ".py",
   "mimetype": "text/x-python",
   "name": "python",
   "nbconvert_exporter": "python",
   "pygments_lexer": "ipython3",
   "version": "3.7.6"
  }
 },
 "nbformat": 4,
 "nbformat_minor": 2
}
